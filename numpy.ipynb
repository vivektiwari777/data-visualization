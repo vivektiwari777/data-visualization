{
 "cells": [
  {
   "cell_type": "code",
   "execution_count": 4,
   "id": "39c08151",
   "metadata": {},
   "outputs": [
    {
     "name": "stdout",
     "output_type": "stream",
     "text": [
      "[1 2 3 4 4]\n",
      "[1 6 7 8 9]\n"
     ]
    }
   ],
   "source": [
    "import numpy as np\n",
    "a=np.array([1,2,3,4,4])\n",
    "b=np.array([1,6,7,8,9])\n",
    "print(a)\n",
    "print(b)"
   ]
  },
  {
   "cell_type": "code",
   "execution_count": 5,
   "id": "c68516c9",
   "metadata": {},
   "outputs": [
    {
     "data": {
      "text/plain": [
       "dtype('int32')"
      ]
     },
     "execution_count": 5,
     "metadata": {},
     "output_type": "execute_result"
    }
   ],
   "source": [
    "a.dtype"
   ]
  },
  {
   "cell_type": "code",
   "execution_count": 6,
   "id": "b53e2d73",
   "metadata": {},
   "outputs": [
    {
     "name": "stdout",
     "output_type": "stream",
     "text": [
      "2\n",
      "3\n"
     ]
    }
   ],
   "source": [
    "a=np.array([[1,2,4,8],[5,6,8,9]])\n",
    "print(a.ndim)\n",
    "b=np.array([[[2,3,4,5],[9,0,0,0]],[[3,4,5,6],[4,5,6,7]]])\n",
    "print(b.ndim)"
   ]
  },
  {
   "cell_type": "code",
   "execution_count": 7,
   "id": "f4b546a9",
   "metadata": {},
   "outputs": [
    {
     "name": "stdout",
     "output_type": "stream",
     "text": [
      "2\n"
     ]
    }
   ],
   "source": [
    "print(a[0,1])"
   ]
  },
  {
   "cell_type": "code",
   "execution_count": 12,
   "id": "84e40dee",
   "metadata": {},
   "outputs": [
    {
     "name": "stdout",
     "output_type": "stream",
     "text": [
      "[2 3 4 5]\n"
     ]
    }
   ],
   "source": [
    "print(b[0,0])"
   ]
  },
  {
   "cell_type": "code",
   "execution_count": 11,
   "id": "c23d99bd",
   "metadata": {},
   "outputs": [
    {
     "name": "stdout",
     "output_type": "stream",
     "text": [
      "[4 5 6 7]\n"
     ]
    }
   ],
   "source": [
    "print(b[1,1])"
   ]
  },
  {
   "cell_type": "code",
   "execution_count": 13,
   "id": "168423f8",
   "metadata": {},
   "outputs": [
    {
     "name": "stdout",
     "output_type": "stream",
     "text": [
      "7\n"
     ]
    }
   ],
   "source": [
    "print(b[1,1,3])"
   ]
  },
  {
   "cell_type": "code",
   "execution_count": 15,
   "id": "171bb628",
   "metadata": {},
   "outputs": [
    {
     "data": {
      "text/plain": [
       "3"
      ]
     },
     "execution_count": 15,
     "metadata": {},
     "output_type": "execute_result"
    }
   ],
   "source": [
    "b.ndim"
   ]
  },
  {
   "cell_type": "code",
   "execution_count": 16,
   "id": "5dba89bb",
   "metadata": {},
   "outputs": [],
   "source": [
    "c=np.array([[[2,3,4],[5,7,8],[9,4,3]],[[3,-1,3],[4,-5,-6],[7,-6,-4]]])"
   ]
  },
  {
   "cell_type": "code",
   "execution_count": 17,
   "id": "73a29fa3",
   "metadata": {},
   "outputs": [
    {
     "name": "stdout",
     "output_type": "stream",
     "text": [
      "-1\n"
     ]
    }
   ],
   "source": [
    "print(c[1,0,1])"
   ]
  },
  {
   "cell_type": "code",
   "execution_count": 18,
   "id": "9f7c4aaf",
   "metadata": {},
   "outputs": [
    {
     "data": {
      "text/plain": [
       "(2, 3, 3)"
      ]
     },
     "execution_count": 18,
     "metadata": {},
     "output_type": "execute_result"
    }
   ],
   "source": [
    "c.shape"
   ]
  },
  {
   "cell_type": "code",
   "execution_count": 19,
   "id": "f15c6071",
   "metadata": {},
   "outputs": [
    {
     "data": {
      "text/plain": [
       "1"
      ]
     },
     "execution_count": 19,
     "metadata": {},
     "output_type": "execute_result"
    }
   ],
   "source": [
    "A=np.array([2])\n",
    "A.ndim"
   ]
  },
  {
   "cell_type": "code",
   "execution_count": 20,
   "id": "da1d12cb",
   "metadata": {},
   "outputs": [
    {
     "data": {
      "text/plain": [
       "4"
      ]
     },
     "execution_count": 20,
     "metadata": {},
     "output_type": "execute_result"
    }
   ],
   "source": [
    "A.nbytes"
   ]
  },
  {
   "cell_type": "code",
   "execution_count": 21,
   "id": "3cf3f85d",
   "metadata": {},
   "outputs": [
    {
     "data": {
      "text/plain": [
       "2"
      ]
     },
     "execution_count": 21,
     "metadata": {},
     "output_type": "execute_result"
    }
   ],
   "source": [
    "c.shape[0]"
   ]
  },
  {
   "cell_type": "code",
   "execution_count": 22,
   "id": "75d2d23a",
   "metadata": {},
   "outputs": [],
   "source": [
    "a=np.arange(100)"
   ]
  },
  {
   "cell_type": "code",
   "execution_count": 23,
   "id": "7d2a217d",
   "metadata": {},
   "outputs": [
    {
     "name": "stdout",
     "output_type": "stream",
     "text": [
      "[ 0  1  2  3  4  5  6  7  8  9 10 11 12 13 14 15 16 17 18 19 20 21 22 23\n",
      " 24 25 26 27 28 29 30 31 32 33 34 35 36 37 38 39 40 41 42 43 44 45 46 47\n",
      " 48 49 50 51 52 53 54 55 56 57 58 59 60 61 62 63 64 65 66 67 68 69 70 71\n",
      " 72 73 74 75 76 77 78 79 80 81 82 83 84 85 86 87 88 89 90 91 92 93 94 95\n",
      " 96 97 98 99]\n"
     ]
    }
   ],
   "source": [
    "print(a)"
   ]
  },
  {
   "cell_type": "code",
   "execution_count": 24,
   "id": "d32d6ff4",
   "metadata": {},
   "outputs": [
    {
     "name": "stdout",
     "output_type": "stream",
     "text": [
      "range(0, 10)\n"
     ]
    }
   ],
   "source": [
    "print(range(10))"
   ]
  },
  {
   "cell_type": "code",
   "execution_count": 25,
   "id": "457afb19",
   "metadata": {},
   "outputs": [
    {
     "name": "stdout",
     "output_type": "stream",
     "text": [
      "[0, 1, 2, 3, 4, 5, 6, 7, 8, 9]\n"
     ]
    }
   ],
   "source": [
    "print(list(range(10)))"
   ]
  },
  {
   "cell_type": "code",
   "execution_count": 26,
   "id": "06aa7b8a",
   "metadata": {},
   "outputs": [
    {
     "name": "stdout",
     "output_type": "stream",
     "text": [
      "[20 25 30 35 40 45 50 55 60 65 70 75 80 85 90 95]\n"
     ]
    }
   ],
   "source": [
    "d=np.arange(20,100,5)\n",
    "print(d)"
   ]
  },
  {
   "cell_type": "code",
   "execution_count": 27,
   "id": "0663a6e6",
   "metadata": {},
   "outputs": [
    {
     "name": "stdout",
     "output_type": "stream",
     "text": [
      "[6 3 1 4 2 8 0 5 7 9]\n"
     ]
    }
   ],
   "source": [
    "e=np.random.permutation(np.arange(10))\n",
    "print(e)"
   ]
  },
  {
   "cell_type": "code",
   "execution_count": 29,
   "id": "b7a3a3ce",
   "metadata": {},
   "outputs": [
    {
     "data": {
      "text/plain": [
       "array([0.28362511, 0.23302138, 0.53789794, 0.35599574, 0.31271768,\n",
       "       0.03271753, 0.94277003, 0.81481993, 0.62698835, 0.66578689,\n",
       "       0.4333362 , 0.31355014, 0.19935724, 0.64683798, 0.61398672,\n",
       "       0.25894442, 0.23127512, 0.67374585, 0.56026055, 0.67185448,\n",
       "       0.1449588 , 0.05627224, 0.48414078, 0.51743858, 0.53843718,\n",
       "       0.86499745, 0.44167536, 0.53579801, 0.96051857, 0.75744591,\n",
       "       0.81630519, 0.65973495, 0.80139962, 0.3259068 , 0.47150799,\n",
       "       0.02114878, 0.91215731, 0.42399023, 0.07476892, 0.44579286,\n",
       "       0.0716681 , 0.34999418, 0.92386259, 0.20206718, 0.98783766,\n",
       "       0.33771992, 0.53732081, 0.35988563, 0.00398161, 0.24307822,\n",
       "       0.07901582, 0.50916221, 0.20645862, 0.21452405, 0.76386335,\n",
       "       0.02527081, 0.57099126, 0.46341341, 0.45454592, 0.23384742,\n",
       "       0.82969347, 0.45826852, 0.68025439, 0.12501504, 0.76977573,\n",
       "       0.29304065, 0.05255658, 0.77426682, 0.06676676, 0.21653014,\n",
       "       0.15913902, 0.22709142, 0.85611018, 0.19177798, 0.50464753,\n",
       "       0.2934547 , 0.01911956, 0.15377729, 0.61619325, 0.81130986,\n",
       "       0.10738786, 0.48723539, 0.78266754, 0.00571578, 0.88596727,\n",
       "       0.37144391, 0.88755613, 0.91232921, 0.2036771 , 0.15585737,\n",
       "       0.40376041, 0.61187711, 0.87226331, 0.23882302, 0.12283977,\n",
       "       0.41489194, 0.9673948 , 0.73740853, 0.39609653, 0.11813274])"
      ]
     },
     "execution_count": 29,
     "metadata": {},
     "output_type": "execute_result"
    }
   ],
   "source": [
    "A=np.random.rand(100)\n",
    "A"
   ]
  },
  {
   "cell_type": "code",
   "execution_count": 31,
   "id": "efd59723",
   "metadata": {},
   "outputs": [],
   "source": [
    "import matplotlib.pyplot as plt\n"
   ]
  },
  {
   "cell_type": "code",
   "execution_count": 32,
   "id": "34ec0ae0",
   "metadata": {},
   "outputs": [
    {
     "data": {
      "text/plain": [
       "(array([12., 10., 15.,  9., 12.,  9., 10.,  6., 10.,  7.]),\n",
       " array([0.00398161, 0.10236721, 0.20075282, 0.29913842, 0.39752403,\n",
       "        0.49590963, 0.59429524, 0.69268084, 0.79106645, 0.88945205,\n",
       "        0.98783766]),\n",
       " <BarContainer object of 10 artists>)"
      ]
     },
     "execution_count": 32,
     "metadata": {},
     "output_type": "execute_result"
    },
    {
     "data": {
      "image/png": "[encoded data removed]",
      "text/plain": [
       "<Figure size 640x480 with 1 Axes>"
      ]
     },
     "metadata": {},
     "output_type": "display_data"
    }
   ],
   "source": [
    "plt.hist(A)"
   ]
  },
  {
   "cell_type": "code",
   "execution_count": 34,
   "id": "5abb77df",
   "metadata": {},
   "outputs": [],
   "source": [
    "c=np.random.rand(2,3)"
   ]
  },
  {
   "cell_type": "code",
   "execution_count": 35,
   "id": "07b27d7e",
   "metadata": {},
   "outputs": [
    {
     "data": {
      "text/plain": [
       "array([[0.98296432, 0.10720392, 0.49423694],\n",
       "       [0.63305044, 0.07204161, 0.95554427]])"
      ]
     },
     "execution_count": 35,
     "metadata": {},
     "output_type": "execute_result"
    }
   ],
   "source": [
    "c"
   ]
  },
  {
   "cell_type": "code",
   "execution_count": 38,
   "id": "91bc5aef",
   "metadata": {},
   "outputs": [
    {
     "data": {
      "text/plain": [
       "array([[[[0.3316475 , 0.20580366],\n",
       "         [0.37395604, 0.79742731],\n",
       "         [0.11782458, 0.5532362 ],\n",
       "         [0.83255873, 0.69616101]],\n",
       "\n",
       "        [[0.83224602, 0.71908305],\n",
       "         [0.3300673 , 0.02482047],\n",
       "         [0.40013947, 0.86944925],\n",
       "         [0.33361819, 0.00603425]],\n",
       "\n",
       "        [[0.45596361, 0.89227901],\n",
       "         [0.38054472, 0.36220249],\n",
       "         [0.33228783, 0.73679689],\n",
       "         [0.34197332, 0.65011481]]],\n",
       "\n",
       "\n",
       "       [[[0.24592   , 0.07950334],\n",
       "         [0.62031365, 0.33053493],\n",
       "         [0.86942657, 0.82114455],\n",
       "         [0.64256248, 0.12388121]],\n",
       "\n",
       "        [[0.33344151, 0.7830364 ],\n",
       "         [0.99536529, 0.17029738],\n",
       "         [0.44260569, 0.7629496 ],\n",
       "         [0.07237829, 0.51768409]],\n",
       "\n",
       "        [[0.83452416, 0.47750535],\n",
       "         [0.06528585, 0.52152716],\n",
       "         [0.41817696, 0.24453594],\n",
       "         [0.90862946, 0.37916364]]]])"
      ]
     },
     "execution_count": 38,
     "metadata": {},
     "output_type": "execute_result"
    }
   ],
   "source": [
    "c=np.random.rand(2,3,4,2)\n",
    "c"
   ]
  },
  {
   "cell_type": "code",
   "execution_count": 37,
   "id": "85f45c12",
   "metadata": {},
   "outputs": [
    {
     "data": {
      "text/plain": [
       "4"
      ]
     },
     "execution_count": 37,
     "metadata": {},
     "output_type": "execute_result"
    }
   ],
   "source": [
    "c.ndim"
   ]
  },
  {
   "cell_type": "code",
   "execution_count": 41,
   "id": "33be1c2f",
   "metadata": {},
   "outputs": [
    {
     "data": {
      "text/plain": [
       "(4, 25)"
      ]
     },
     "execution_count": 41,
     "metadata": {},
     "output_type": "execute_result"
    }
   ],
   "source": [
    "d=np.arange(100).reshape(4,25)\n",
    "d.shape"
   ]
  },
  {
   "cell_type": "code",
   "execution_count": null,
   "id": "96acf13f",
   "metadata": {},
   "outputs": [],
   "source": []
  }
 ],
 "metadata": {
  "kernelspec": {
   "display_name": "Python 3 (ipykernel)",
   "language": "python",
   "name": "python3"
  },
  "language_info": {
   "codemirror_mode": {
    "name": "ipython",
    "version": 3
   },
   "file_extension": ".py",
   "mimetype": "text/x-python",
   "name": "python",
   "nbconvert_exporter": "python",
   "pygments_lexer": "ipython3",
   "version": "3.10.9"
  }
 },
 "nbformat": 4,
 "nbformat_minor": 5
}
