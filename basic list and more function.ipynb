{
 "cells": [
  {
   "cell_type": "code",
   "execution_count": 1,
   "id": "17ec11ca",
   "metadata": {},
   "outputs": [],
   "source": [
    "L=[1,3,4,7,\"name\",3]\n",
    "T=(1,3,4,9,\"name\",3)\n",
    "S={1,3,4,9,\"name\"}\n",
    "D={23:\"twothree\",'B':43,'C':'CCD'}"
   ]
  },
  {
   "cell_type": "code",
   "execution_count": 2,
   "id": "fdd0d002",
   "metadata": {},
   "outputs": [
    {
     "name": "stdout",
     "output_type": "stream",
     "text": [
      "<class 'list'>\n",
      "<class 'tuple'>\n",
      "<class 'set'>\n",
      "<class 'dict'>\n"
     ]
    }
   ],
   "source": [
    "print(type(L))\n",
    "print(type(T))\n",
    "print(type(S))\n",
    "print(type(D))\n"
   ]
  },
  {
   "cell_type": "code",
   "execution_count": 5,
   "id": "c43cf0f2",
   "metadata": {},
   "outputs": [
    {
     "data": {
      "text/plain": [
       "3"
      ]
     },
     "execution_count": 5,
     "metadata": {},
     "output_type": "execute_result"
    }
   ],
   "source": [
    "L[1]"
   ]
  },
  {
   "cell_type": "code",
   "execution_count": 6,
   "id": "49aa0e3e",
   "metadata": {},
   "outputs": [
    {
     "name": "stdout",
     "output_type": "stream",
     "text": [
      "True\n"
     ]
    },
    {
     "data": {
      "text/plain": [
       "'twothree'"
      ]
     },
     "execution_count": 6,
     "metadata": {},
     "output_type": "execute_result"
    }
   ],
   "source": [
    "T[1]\n",
    "print(3 in S)\n",
    "D[23]"
   ]
  },
  {
   "cell_type": "code",
   "execution_count": 7,
   "id": "eadf1deb",
   "metadata": {},
   "outputs": [
    {
     "data": {
      "text/plain": [
       "3"
      ]
     },
     "execution_count": 7,
     "metadata": {},
     "output_type": "execute_result"
    }
   ],
   "source": [
    "T[1]"
   ]
  },
  {
   "cell_type": "code",
   "execution_count": 8,
   "id": "73ee15a8",
   "metadata": {},
   "outputs": [
    {
     "data": {
      "text/plain": [
       "{1, 3, 4, 9, 'name'}"
      ]
     },
     "execution_count": 8,
     "metadata": {},
     "output_type": "execute_result"
    }
   ],
   "source": [
    "S"
   ]
  },
  {
   "cell_type": "code",
   "execution_count": 11,
   "id": "fd5bbc76",
   "metadata": {},
   "outputs": [],
   "source": [
    "L=L+[\"GAME\"]"
   ]
  },
  {
   "cell_type": "code",
   "execution_count": 12,
   "id": "33489a16",
   "metadata": {},
   "outputs": [
    {
     "data": {
      "text/plain": [
       "[1, 3, 4, 7, 'name', 3, 'GAME']"
      ]
     },
     "execution_count": 12,
     "metadata": {},
     "output_type": "execute_result"
    }
   ],
   "source": [
    "L"
   ]
  },
  {
   "cell_type": "code",
   "execution_count": 15,
   "id": "9edfb5c2",
   "metadata": {},
   "outputs": [],
   "source": [
    "T2=('b',45)\n",
    "T3=T+T2"
   ]
  },
  {
   "cell_type": "code",
   "execution_count": 16,
   "id": "3d617e86",
   "metadata": {},
   "outputs": [
    {
     "data": {
      "text/plain": [
       "(1, 3, 4, 9, 'name', 3, 'b', 45)"
      ]
     },
     "execution_count": 16,
     "metadata": {},
     "output_type": "execute_result"
    }
   ],
   "source": [
    "T3"
   ]
  },
  {
   "cell_type": "code",
   "execution_count": 17,
   "id": "e1f0b57a",
   "metadata": {},
   "outputs": [
    {
     "data": {
      "text/plain": [
       "{1, 3, 4, 9, 'name'}"
      ]
     },
     "execution_count": 17,
     "metadata": {},
     "output_type": "execute_result"
    }
   ],
   "source": [
    "S"
   ]
  },
  {
   "cell_type": "code",
   "execution_count": 18,
   "id": "35ff96aa",
   "metadata": {},
   "outputs": [],
   "source": [
    "S.add(56)"
   ]
  },
  {
   "cell_type": "code",
   "execution_count": 19,
   "id": "01c6a909",
   "metadata": {},
   "outputs": [
    {
     "data": {
      "text/plain": [
       "{1, 3, 4, 56, 9, 'name'}"
      ]
     },
     "execution_count": 19,
     "metadata": {},
     "output_type": "execute_result"
    }
   ],
   "source": [
    "S"
   ]
  },
  {
   "cell_type": "code",
   "execution_count": 20,
   "id": "e55337a0",
   "metadata": {},
   "outputs": [],
   "source": [
    "S.update({23,'game,1'})"
   ]
  },
  {
   "cell_type": "code",
   "execution_count": 21,
   "id": "2a102d05",
   "metadata": {},
   "outputs": [
    {
     "data": {
      "text/plain": [
       "{1, 23, 3, 4, 56, 9, 'game,1', 'name'}"
      ]
     },
     "execution_count": 21,
     "metadata": {},
     "output_type": "execute_result"
    }
   ],
   "source": [
    "S"
   ]
  },
  {
   "cell_type": "code",
   "execution_count": null,
   "id": "96acdf11",
   "metadata": {},
   "outputs": [],
   "source": []
  }
 ],
 "metadata": {
  "kernelspec": {
   "display_name": "Python 3 (ipykernel)",
   "language": "python",
   "name": "python3"
  },
  "language_info": {
   "codemirror_mode": {
    "name": "ipython",
    "version": 3
   },
   "file_extension": ".py",
   "mimetype": "text/x-python",
   "name": "python",
   "nbconvert_exporter": "python",
   "pygments_lexer": "ipython3",
   "version": "3.10.9"
  }
 },
 "nbformat": 4,
 "nbformat_minor": 5
}
